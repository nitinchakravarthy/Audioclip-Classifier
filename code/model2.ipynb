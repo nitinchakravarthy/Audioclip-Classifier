{
 "cells": [
  {
   "cell_type": "code",
   "execution_count": 1,
   "metadata": {},
   "outputs": [
    {
     "name": "stderr",
     "output_type": "stream",
     "text": [
      "Using TensorFlow backend.\n"
     ]
    }
   ],
   "source": [
    "%load_ext autoreload\n",
    "%autoreload 2\n",
    "\n",
    "\n",
    "\n",
    "import librosa\n",
    "import os\n",
    "from sklearn.model_selection import train_test_split\n",
    "from keras.utils import to_categorical\n",
    "import numpy as np\n",
    "from tqdm import tqdm\n",
    "from preprocess import *\n",
    "import keras\n",
    "from keras.models import Sequential\n",
    "from keras.layers import Dense, Dropout, Flatten, Conv2D, MaxPooling2D\n",
    "from keras.utils import to_categorical\n",
    "from keras.callbacks import ModelCheckpoint\n",
    "import matplotlib.pyplot as plt"
   ]
  },
  {
   "cell_type": "markdown",
   "metadata": {},
   "source": [
    "### for the next part to run the data needs to be extracted and placed in the folders as SPEECH_DATAA_PATH and URBAN_NOISE_DATA_PATH locations."
   ]
  },
  {
   "cell_type": "code",
   "execution_count": 2,
   "metadata": {},
   "outputs": [],
   "source": [
    "SPEECH_DATA_PATH = \"./speech/data/\"\n",
    "\n",
    "URBAN_NOISE_DATA_PATH = \"./urban/data/\"\n",
    "\n",
    "COMBINED_DATA_PATH = \"./combined/data/\"\n",
    "\n",
    "SPEECH_NPY_PATH = \"./40bins/npy/\"\n",
    "\n",
    "URBAN_NOISE_NPY_PATH = \"./40bins/npy/\"\n",
    "\n",
    "COMBINED_NPY_PATH =  \"./combined/40bins/npy/\"\n",
    "\n",
    "COMBINED_MODEL_SAVE_PATH = \"./models/40bins\""
   ]
  },
  {
   "cell_type": "code",
   "execution_count": 3,
   "metadata": {},
   "outputs": [],
   "source": [
    "# speech test and val file paths\n",
    "testFile = \"./data/testing_list.txt\"\n",
    "valFile = \"./data/validation_list.txt\"\n"
   ]
  },
  {
   "cell_type": "markdown",
   "metadata": {},
   "source": [
    "### function to convert wav file to mfccs"
   ]
  },
  {
   "cell_type": "code",
   "execution_count": 4,
   "metadata": {},
   "outputs": [],
   "source": [
    "##function to convert wav2mfcc\n",
    "# samp rate of the speech wav files is 16000\n",
    "# samp rate of the urban noise wav files is 8000\n",
    "# use the samprate argument to change that.... will downsample speech wav files to 8000 in the future to make it easier\n",
    "def wav2mfcc(file_path, max_len=11,samprate = 8000):\n",
    "    wave, sr = librosa.load(file_path, mono=True, sr=None)\n",
    "    wave = wave[::3]\n",
    "    ##mfcc = librosa.feature.mfcc(wave, sr=16000)\n",
    "    mfcc = librosa.feature.mfcc(wave, sr=samprate)\n",
    "    # If maximum length exceeds mfcc lengths then pad the remaining ones\n",
    "    if (max_len > mfcc.shape[1]):\n",
    "        pad_width = max_len - mfcc.shape[1]\n",
    "        mfcc = np.pad(mfcc, pad_width=((0, 0), (0, pad_width)), mode='constant')\n",
    "\n",
    "    # Else cutoff the remaining parts\n",
    "    else:\n",
    "        mfcc = mfcc[:, :max_len]\n",
    "    \n",
    "    return mfcc"
   ]
  },
  {
   "cell_type": "code",
   "execution_count": 5,
   "metadata": {},
   "outputs": [],
   "source": [
    "# args: Folder Path\n",
    "# Output: Tuple (Label, Indices of the labels, one-hot encoded labels)\n",
    "# make sure the background noise folder is not insde the DATA_PATH. because that is used for data augmentation and not recognition\n",
    "def get_labels(path=COMBINED_DATA_PATH):\n",
    "    labels = os.listdir(path)\n",
    "    label_indices = np.arange(0, len(labels))\n",
    "    return labels, label_indices, to_categorical(label_indices)\n"
   ]
  },
  {
   "cell_type": "markdown",
   "metadata": {},
   "source": [
    "### function to extract and save speech data features"
   ]
  },
  {
   "cell_type": "code",
   "execution_count": 6,
   "metadata": {},
   "outputs": [],
   "source": [
    "# write the save data code here....with test train and val split\n",
    "# make sure the background_noise folder is not in the path\n",
    "def save_data_speech(path = SPEECH_DATA_PATH, testFile = testFile, valFile = valFile, max_len = 11,savepath = SPEECH_NPY_PATH):\n",
    "\n",
    "    test_file = open(testFile, \"r\")\n",
    "    testFilesList = test_file.read().split('\\n')\n",
    "\n",
    "    val_file = open(valFile, \"r\")\n",
    "    valFilesList = val_file.read().split('\\n')\n",
    "\n",
    "    #print(testFilesList)\n",
    "    #print(valFilesList)\n",
    "    labels,_,_ = get_labels(path)\n",
    "    print(labels)\n",
    "    for label in labels:\n",
    "        mfcc_train = []\n",
    "        mfcc_test = []\n",
    "        mfcc_val = []\n",
    "        # saving a tuple of wavfile path and label/name format to compare in the test and val list\n",
    "        wavfiles = [(path + label + '/' + wavfile, label + '/' + wavfile)\n",
    "                    for wavfile in os.listdir(path + '/' + label)]\n",
    "        \n",
    "        #print(wavfiles)\n",
    "        \n",
    "        for wavfile in tqdm(wavfiles, \"Saving vectors of label - '{}'\".format(label)):\n",
    "            #print(wavfile[0])\n",
    "            #print(wavfile[1])\n",
    "            mfcc = wav2mfcc(wavfile[0], max_len=max_len)\n",
    "            if wavfile[1] in testFilesList:\n",
    "                mfcc_test.append(mfcc)\n",
    "            elif wavfile[1] in valFilesList:\n",
    "                mfcc_val.append(mfcc)\n",
    "            else:\n",
    "                mfcc_train.append(mfcc)\n",
    "                \n",
    "        np.save(savepath + label + '_test.npy', mfcc_test)\n",
    "        np.save(savepath + label + '_val.npy', mfcc_val)\n",
    "        np.save(savepath + label + '_train.npy', mfcc_train)"
   ]
  },
  {
   "cell_type": "markdown",
   "metadata": {},
   "source": [
    "### function to extract and save urban sounds features"
   ]
  },
  {
   "cell_type": "code",
   "execution_count": 7,
   "metadata": {},
   "outputs": [],
   "source": [
    "# just saving the urban data as the npy file.\n",
    "# will split the data into test train and val after loading the data nd the labels by using a test_train split function\n",
    "def save_urbanNoise_data(path = URBAN_NOISE_DATA_PATH, max_len = 11, savePath = URBAN_NOISE_NPY_PATH):\n",
    "    labels,_,_ = get_labels(path)\n",
    "    for label in labels:\n",
    "        mfccs = []\n",
    "        mfcc_train = []\n",
    "        mfcc_test = []\n",
    "        mfcc_val = []\n",
    "        print(label)\n",
    "        \n",
    "        wavfiles = [path + label + '/' + wavfile for wavfile in os.listdir(path + '/' + label)]\n",
    "        \n",
    "        for wavfile in tqdm(wavfiles, \"saving vectors of label - '{}'\".format(label)):\n",
    "            try:\n",
    "                mfcc = wav2mfcc(wavfile, max_len = max_len)\n",
    "                mfccs.append(mfcc)\n",
    "            except:\n",
    "                print(wavfile)\n",
    "        \n",
    "        np.save(savePath + label + '.npy', mfccs)"
   ]
  },
  {
   "cell_type": "code",
   "execution_count": 8,
   "metadata": {},
   "outputs": [],
   "source": [
    "# save data\n",
    "# Second dimension of the feature is dim2\n",
    "feature_dim_2 = 40      #max_len"
   ]
  },
  {
   "cell_type": "code",
   "execution_count": 10,
   "metadata": {
    "scrolled": true
   },
   "outputs": [
    {
     "name": "stdout",
     "output_type": "stream",
     "text": [
      "['down', 'learn', 'right', 'nine', 'eight', 'dog', 'bird', 'house', 'marvin', 'zero', 'sheila', 'bed', 'follow', 'off', 'happy', 'backward', 'on', 'cat', 'left', 'five', 'visual', 'one', 'no', 'two', 'yes', 'forward', 'tree', 'three', 'go', 'seven', 'six', 'wow', 'stop', 'four', 'up']\n"
     ]
    },
    {
     "name": "stderr",
     "output_type": "stream",
     "text": [
      "Saving vectors of label - 'down': 100%|██████████| 3917/3917 [00:51<00:00, 76.13it/s] \n",
      "Saving vectors of label - 'learn': 100%|██████████| 1575/1575 [00:13<00:00, 118.14it/s]\n",
      "Saving vectors of label - 'right': 100%|██████████| 3778/3778 [00:47<00:00, 80.30it/s]\n",
      "Saving vectors of label - 'nine': 100%|██████████| 3934/3934 [00:58<00:00, 67.53it/s]\n",
      "Saving vectors of label - 'eight': 100%|██████████| 3787/3787 [00:49<00:00, 81.30it/s] \n",
      "Saving vectors of label - 'dog': 100%|██████████| 2128/2128 [00:33<00:00, 63.55it/s] \n",
      "Saving vectors of label - 'bird': 100%|██████████| 2064/2064 [00:23<00:00, 89.36it/s] \n",
      "Saving vectors of label - 'house': 100%|██████████| 2113/2113 [00:20<00:00, 104.85it/s]\n",
      "Saving vectors of label - 'marvin': 100%|██████████| 2100/2100 [00:19<00:00, 109.42it/s]\n",
      "Saving vectors of label - 'zero': 100%|██████████| 4052/4052 [00:53<00:00, 80.48it/s]\n",
      "Saving vectors of label - 'sheila': 100%|██████████| 2022/2022 [00:19<00:00, 106.04it/s]\n",
      "Saving vectors of label - 'bed': 100%|██████████| 2014/2014 [00:19<00:00, 101.33it/s]\n",
      "Saving vectors of label - 'follow': 100%|██████████| 1579/1579 [00:14<00:00, 112.33it/s]\n",
      "Saving vectors of label - 'off': 100%|██████████| 3745/3745 [00:43<00:00, 86.63it/s] \n",
      "Saving vectors of label - 'happy': 100%|██████████| 2054/2054 [00:20<00:00, 101.16it/s]\n",
      "Saving vectors of label - 'backward': 100%|██████████| 1664/1664 [01:05<00:00, 25.55it/s] \n",
      "Saving vectors of label - 'on': 100%|██████████| 3845/3845 [01:17<00:00, 49.31it/s]\n",
      "Saving vectors of label - 'cat': 100%|██████████| 2031/2031 [00:31<00:00, 65.10it/s] \n",
      "Saving vectors of label - 'left': 100%|██████████| 3801/3801 [01:01<00:00, 62.13it/s]\n",
      "Saving vectors of label - 'five': 100%|██████████| 4052/4052 [01:02<00:00, 64.69it/s]\n",
      "Saving vectors of label - 'visual': 100%|██████████| 1592/1592 [00:16<00:00, 95.77it/s] \n",
      "Saving vectors of label - 'one': 100%|██████████| 3890/3890 [01:19<00:00, 48.74it/s]\n",
      "Saving vectors of label - 'no': 100%|██████████| 3941/3941 [01:07<00:00, 58.39it/s]\n",
      "Saving vectors of label - 'two': 100%|██████████| 3880/3880 [01:00<00:00, 64.37it/s]\n",
      "Saving vectors of label - 'yes': 100%|██████████| 4044/4044 [01:08<00:00, 58.69it/s]\n",
      "Saving vectors of label - 'forward': 100%|██████████| 1557/1557 [00:18<00:00, 84.90it/s] \n",
      "Saving vectors of label - 'tree': 100%|██████████| 1759/1759 [00:26<00:00, 67.57it/s]\n",
      "Saving vectors of label - 'three': 100%|██████████| 3727/3727 [01:11<00:00, 52.33it/s]\n",
      "Saving vectors of label - 'go': 100%|██████████| 3880/3880 [01:04<00:00, 60.45it/s]\n",
      "Saving vectors of label - 'seven': 100%|██████████| 3998/3998 [01:08<00:00, 58.79it/s]\n",
      "Saving vectors of label - 'six': 100%|██████████| 3860/3860 [00:53<00:00, 72.17it/s]\n",
      "Saving vectors of label - 'wow': 100%|██████████| 2123/2123 [00:27<00:00, 76.76it/s] \n",
      "Saving vectors of label - 'stop': 100%|██████████| 3872/3872 [01:02<00:00, 61.49it/s]\n",
      "Saving vectors of label - 'four': 100%|██████████| 3728/3728 [01:02<00:00, 61.03it/s]\n",
      "Saving vectors of label - 'up': 100%|██████████| 3723/3723 [01:00<00:00, 61.22it/s]\n"
     ]
    }
   ],
   "source": [
    "\n",
    "\n",
    "# speech data\n",
    "save_data_speech(max_len = feature_dim_2)\n"
   ]
  },
  {
   "cell_type": "code",
   "execution_count": 11,
   "metadata": {
    "scrolled": true
   },
   "outputs": [
    {
     "name": "stdout",
     "output_type": "stream",
     "text": [
      "air_conditioner\n"
     ]
    },
    {
     "name": "stderr",
     "output_type": "stream",
     "text": [
      "saving vectors of label - 'air_conditioner': 100%|██████████| 1000/1000 [01:08<00:00, 11.68it/s]\n",
      "saving vectors of label - 'dog_bark':   0%|          | 0/1000 [00:00<?, ?it/s]"
     ]
    },
    {
     "name": "stdout",
     "output_type": "stream",
     "text": [
      "dog_bark\n"
     ]
    },
    {
     "name": "stderr",
     "output_type": "stream",
     "text": [
      "saving vectors of label - 'dog_bark': 100%|██████████| 1000/1000 [00:57<00:00, 15.77it/s]\n"
     ]
    },
    {
     "name": "stdout",
     "output_type": "stream",
     "text": [
      "street_music\n"
     ]
    },
    {
     "name": "stderr",
     "output_type": "stream",
     "text": [
      "saving vectors of label - 'street_music': 100%|██████████| 1000/1000 [01:03<00:00, 15.32it/s]\n",
      "saving vectors of label - 'car_horn':   0%|          | 0/429 [00:00<?, ?it/s]"
     ]
    },
    {
     "name": "stdout",
     "output_type": "stream",
     "text": [
      "car_horn\n"
     ]
    },
    {
     "name": "stderr",
     "output_type": "stream",
     "text": [
      "saving vectors of label - 'car_horn': 100%|██████████| 429/429 [00:22<00:00, 19.10it/s]\n",
      "saving vectors of label - 'drilling':   0%|          | 0/1000 [00:00<?, ?it/s]"
     ]
    },
    {
     "name": "stdout",
     "output_type": "stream",
     "text": [
      "drilling\n"
     ]
    },
    {
     "name": "stderr",
     "output_type": "stream",
     "text": [
      "saving vectors of label - 'drilling': 100%|██████████| 1000/1000 [01:05<00:00, 15.35it/s]\n"
     ]
    },
    {
     "name": "stdout",
     "output_type": "stream",
     "text": [
      "children_playing\n"
     ]
    },
    {
     "name": "stderr",
     "output_type": "stream",
     "text": [
      "saving vectors of label - 'children_playing': 100%|██████████| 1000/1000 [01:08<00:00, 14.57it/s]\n",
      "saving vectors of label - 'siren':   0%|          | 0/928 [00:00<?, ?it/s]"
     ]
    },
    {
     "name": "stdout",
     "output_type": "stream",
     "text": [
      "siren\n"
     ]
    },
    {
     "name": "stderr",
     "output_type": "stream",
     "text": [
      "saving vectors of label - 'siren': 100%|██████████| 928/928 [00:58<00:00, 15.74it/s]\n",
      "saving vectors of label - 'engine_idling':   0%|          | 0/1000 [00:00<?, ?it/s]"
     ]
    },
    {
     "name": "stdout",
     "output_type": "stream",
     "text": [
      "engine_idling\n"
     ]
    },
    {
     "name": "stderr",
     "output_type": "stream",
     "text": [
      "saving vectors of label - 'engine_idling': 100%|██████████| 1000/1000 [01:09<00:00, 14.33it/s]\n"
     ]
    },
    {
     "name": "stdout",
     "output_type": "stream",
     "text": [
      "jackhammer\n"
     ]
    },
    {
     "name": "stderr",
     "output_type": "stream",
     "text": [
      "saving vectors of label - 'jackhammer':  39%|███▉      | 389/1000 [00:27<00:35, 17.01it/s]"
     ]
    },
    {
     "name": "stdout",
     "output_type": "stream",
     "text": [
      "/media/tintin/3bde46c1-cca7-4db6-b2ca-e71397572866/tintin/speech-urban-data/urban/data/jackhammer/188823-7-1-1.wav\n"
     ]
    },
    {
     "name": "stderr",
     "output_type": "stream",
     "text": [
      "saving vectors of label - 'jackhammer': 100%|██████████| 1000/1000 [01:12<00:00, 13.71it/s]\n",
      "saving vectors of label - 'gun_shot':   0%|          | 0/374 [00:00<?, ?it/s]"
     ]
    },
    {
     "name": "stdout",
     "output_type": "stream",
     "text": [
      "gun_shot\n"
     ]
    },
    {
     "name": "stderr",
     "output_type": "stream",
     "text": [
      "saving vectors of label - 'gun_shot': 100%|██████████| 374/374 [00:18<00:00, 20.66it/s]\n"
     ]
    }
   ],
   "source": [
    "#urban Noise data\n",
    "save_urbanNoise_data(max_len = feature_dim_2)"
   ]
  },
  {
   "cell_type": "markdown",
   "metadata": {},
   "source": [
    "### function to import urban noise features data"
   ]
  },
  {
   "cell_type": "code",
   "execution_count": 9,
   "metadata": {},
   "outputs": [],
   "source": [
    "# get the urbanNoiseData along with their labels then split them into train,val and split and save as npy files\n",
    "# we will get all the data from all the classes append them into an array and then use a test train split function\n",
    "def getUrbanNoiseDataSplit(path = URBAN_NOISE_DATA_PATH, savePath = URBAN_NOISE_NPY_PATH, split_ratio=0.8,random_state = 42):\n",
    "    labels, indices, _ = get_labels(path)\n",
    "    # get the array for each label\n",
    "    X = np.load(savePath + labels[0] + '.npy')\n",
    "    Y = np.zeros(X.shape[0])\n",
    "\n",
    "    # Append all of the dataset into one single array, same goes for y\n",
    "    # filling with i+1 in each loop so basically starting the class values from 0 to 9.\n",
    "    for i, label in enumerate(labels[1:]):\n",
    "        x = np.load(savePath + label + '.npy')\n",
    "        X = np.vstack((X, x))\n",
    "        Y = np.append(Y, np.full(x.shape[0], fill_value= (i + 1)))\n",
    "\n",
    "    assert X.shape[0] == len(Y)\n",
    "    \n",
    "    # not shuffling the data for now. Will shuffle them while training\n",
    "    X_temp, X_test, Y_temp, Y_test = train_test_split(X, Y, test_size= (1 - split_ratio), random_state=random_state, shuffle=True)\n",
    "    X_train, X_val, Y_train, Y_val = train_test_split(X_temp,Y_temp, test_size = (1-split_ratio), random_state = random_state,shuffle = True)\n",
    "    \n",
    "    return labels,X_train,X_val,X_test,Y_train,Y_val,Y_test"
   ]
  },
  {
   "cell_type": "markdown",
   "metadata": {},
   "source": [
    "### function to import speech commands features data"
   ]
  },
  {
   "cell_type": "code",
   "execution_count": 10,
   "metadata": {},
   "outputs": [],
   "source": [
    "# for speech we already split the data into train test and val and then saved the data. \n",
    "# so now we just need to import the data and then append all the labels\n",
    "def getSpeechDataSplit(path = SPEECH_DATA_PATH, savePath = SPEECH_NPY_PATH):\n",
    "    \n",
    "    labels, indices, _ = get_labels(path)\n",
    "    # get the array for each label\n",
    "    X_train = np.load(savePath + labels[0] + '_train.npy')\n",
    "    Y_train = np.zeros(X_train.shape[0])\n",
    "    X_val = np.load(savePath + labels[0] + '_val.npy')\n",
    "    Y_val = np.zeros(X_val.shape[0])\n",
    "    X_test = np.load(savePath + labels[0] + '_test.npy')\n",
    "    Y_test = np.zeros(X_test.shape[0])\n",
    "    \n",
    "    for i,label in enumerate(labels[1:]):\n",
    "        x_train = np.load(savePath + label + '_train.npy')\n",
    "        x_val = np.load(savePath + label + '_val.npy')\n",
    "        x_test = np.load(savePath + label + '_test.npy')\n",
    "        X_train = np.vstack((X_train, x_train))\n",
    "        X_val = np.vstack((X_val, x_val))\n",
    "        X_test = np.vstack((X_test, x_test))\n",
    "        \n",
    "        Y_train = np.append(Y_train, np.full(x_train.shape[0],fill_value= (i+1)))\n",
    "        Y_val = np.append(Y_val, np.full(x_val.shape[0],fill_value= (i+1)))\n",
    "        Y_test = np.append(Y_test, np.full(x_test.shape[0],fill_value= (i+1)))\n",
    "    \n",
    "        \n",
    "    return labels,X_train,X_val,X_test,Y_train,Y_val,Y_test"
   ]
  },
  {
   "cell_type": "code",
   "execution_count": 11,
   "metadata": {},
   "outputs": [
    {
     "name": "stdout",
     "output_type": "stream",
     "text": [
      "['air_conditioner', 'dog_bark', 'street_music', 'car_horn', 'drilling', 'children_playing', 'siren', 'engine_idling', 'jackhammer', 'gun_shot']\n"
     ]
    }
   ],
   "source": [
    "# # Loading train set and test set of urban Noise\n",
    "labels_un, X_train_un,X_val_un, X_test_un, Y_train_un,Y_val_un, Y_test_un = getUrbanNoiseDataSplit()\n",
    "print(labels_un)"
   ]
  },
  {
   "cell_type": "code",
   "execution_count": 12,
   "metadata": {},
   "outputs": [
    {
     "name": "stdout",
     "output_type": "stream",
     "text": [
      "['down', 'learn', 'right', 'nine', 'eight', 'dog', 'bird', 'house', 'marvin', 'zero', 'sheila', 'bed', 'follow', 'off', 'happy', 'backward', 'on', 'cat', 'left', 'five', 'visual', 'one', 'no', 'two', 'yes', 'forward', 'tree', 'three', 'go', 'seven', 'six', 'wow', 'stop', 'four', 'up']\n"
     ]
    }
   ],
   "source": [
    "# # Loading train set and test set of speech\n",
    "labels_sp, X_train_sp,X_val_sp, X_test_sp, Y_train_sp,Y_val_sp, Y_test_sp = getSpeechDataSplit()\n",
    "print(labels_sp)"
   ]
  },
  {
   "cell_type": "code",
   "execution_count": 13,
   "metadata": {},
   "outputs": [
    {
     "data": {
      "text/plain": [
       "((5587, 20, 40), (1397, 20, 40), (1746, 20, 40), (5587,), (1397,), (1746,))"
      ]
     },
     "execution_count": 13,
     "metadata": {},
     "output_type": "execute_result"
    }
   ],
   "source": [
    "# print shapes of all arrays\n",
    "X_train_un.shape,X_val_un.shape, X_test_un.shape, Y_train_un.shape,Y_val_un.shape, Y_test_un.shape"
   ]
  },
  {
   "cell_type": "code",
   "execution_count": 14,
   "metadata": {},
   "outputs": [
    {
     "data": {
      "text/plain": [
       "((84843, 20, 40), (9981, 20, 40), (11005, 20, 40), (84843,), (9981,), (11005,))"
      ]
     },
     "execution_count": 14,
     "metadata": {},
     "output_type": "execute_result"
    }
   ],
   "source": [
    "X_train_sp.shape,X_val_sp.shape, X_test_sp.shape, Y_train_sp.shape,Y_val_sp.shape, Y_test_sp.shape"
   ]
  },
  {
   "cell_type": "code",
   "execution_count": 15,
   "metadata": {},
   "outputs": [
    {
     "name": "stdout",
     "output_type": "stream",
     "text": [
      "45\n"
     ]
    }
   ],
   "source": [
    "# if we want to combine both the samples we just need to add the Y sample with the numeber of labels in the previous dataset\n",
    "\n",
    "# combining samples\n",
    "labels = labels_sp + labels_un\n",
    "print(len(labels))\n",
    "\n"
   ]
  },
  {
   "cell_type": "markdown",
   "metadata": {},
   "source": [
    "### merging the data"
   ]
  },
  {
   "cell_type": "code",
   "execution_count": 16,
   "metadata": {},
   "outputs": [],
   "source": [
    "# we add 35 to the urban Noise Y data to make them into the new labels\n",
    "\n",
    "\n",
    "Y_train_un_new = Y_train_un + 35\n",
    "Y_test_un_new = Y_test_un + 35\n",
    "Y_val_un_new = Y_val_un + 35\n",
    "\n"
   ]
  },
  {
   "cell_type": "code",
   "execution_count": 17,
   "metadata": {},
   "outputs": [
    {
     "name": "stdout",
     "output_type": "stream",
     "text": [
      "(90430,)\n",
      "(12751,)\n",
      "(11378,)\n"
     ]
    }
   ],
   "source": [
    "Y_train = np.append(Y_train_sp, Y_train_un_new)\n",
    "Y_test = np.append(Y_test_sp, Y_test_un_new)\n",
    "Y_val = np.append(Y_val_sp, Y_val_un_new)\n",
    "\n",
    "print(Y_train.shape)\n",
    "print(Y_test.shape)\n",
    "print(Y_val.shape)"
   ]
  },
  {
   "cell_type": "code",
   "execution_count": 18,
   "metadata": {},
   "outputs": [
    {
     "name": "stdout",
     "output_type": "stream",
     "text": [
      "[ 0.  0.  0. ... 39. 37. 35.]\n",
      "[ 0.  0.  0. ... 37. 38. 42.]\n",
      "[ 0.  0.  0. ... 39. 36. 41.]\n"
     ]
    }
   ],
   "source": [
    "print(Y_test)\n",
    "print(Y_train)\n",
    "print(Y_val)"
   ]
  },
  {
   "cell_type": "code",
   "execution_count": 19,
   "metadata": {},
   "outputs": [
    {
     "name": "stdout",
     "output_type": "stream",
     "text": [
      "(90430, 20, 40)\n",
      "(12751, 20, 40)\n",
      "(11378, 20, 40)\n"
     ]
    }
   ],
   "source": [
    "X_train = np.vstack((X_train_sp, X_train_un))\n",
    "X_test = np.vstack((X_test_sp, X_test_un))\n",
    "X_val = np.vstack((X_val_sp, X_val_un))\n",
    "\n",
    "\n",
    "print(X_train.shape)\n",
    "print(X_test.shape)\n",
    "print(X_val.shape)"
   ]
  },
  {
   "cell_type": "code",
   "execution_count": 20,
   "metadata": {},
   "outputs": [],
   "source": [
    "# we have combined data set and seperate datasets\n",
    "# X_train_un, X_test_un, X_val_un, Y_train_un, Y_test_un, Y_val_un ---urban Noise data - 10 clasees - (0-9)\n",
    "# X_train_sp, X_test_sp, X_val_sp, Y_train_sp, Y_test_sp, Y_val_sp --- speech data - 35 classes - (0-34)\n",
    "# X_train, X_test, X_val, Y_train, Y_test, Y_val --- combined dtat - 45 classes (0-44)"
   ]
  },
  {
   "cell_type": "code",
   "execution_count": 21,
   "metadata": {},
   "outputs": [],
   "source": [
    "# # Feature dimension\n",
    "feature_dim_1 = 20\n",
    "channel = 1\n",
    "epochs = 200\n",
    "batch_size = 100\n",
    "verbose = 1\n",
    "num_classes = 45    #keeps changing\n"
   ]
  },
  {
   "cell_type": "code",
   "execution_count": 22,
   "metadata": {},
   "outputs": [],
   "source": [
    "# Reshaping to perform 2D convolution\n",
    "# all data\n",
    "\n",
    "X_train = X_train.reshape(X_train.shape[0], feature_dim_1, feature_dim_2, channel)\n",
    "X_val = X_val.reshape(X_val.shape[0], feature_dim_1, feature_dim_2, channel)\n",
    "X_test = X_test.reshape(X_test.shape[0], feature_dim_1, feature_dim_2, channel)\n",
    "\n",
    "Y_train_hot = to_categorical(Y_train)\n",
    "Y_val_hot = to_categorical(Y_val)\n",
    "Y_test_hot = to_categorical(Y_test)"
   ]
  },
  {
   "cell_type": "code",
   "execution_count": 23,
   "metadata": {},
   "outputs": [
    {
     "name": "stdout",
     "output_type": "stream",
     "text": [
      "(90430, 20, 40, 1)\n",
      "(12751, 20, 40, 1)\n",
      "(11378, 20, 40, 1)\n",
      "(90430, 45)\n",
      "(12751, 45)\n",
      "(11378, 45)\n"
     ]
    }
   ],
   "source": [
    "print(X_train.shape)\n",
    "print(X_test.shape)\n",
    "print(X_val.shape)\n",
    "\n",
    "print(Y_train_hot.shape)\n",
    "print(Y_test_hot.shape)\n",
    "print(Y_val_hot.shape)"
   ]
  },
  {
   "cell_type": "markdown",
   "metadata": {},
   "source": [
    "### Model definition"
   ]
  },
  {
   "cell_type": "code",
   "execution_count": 24,
   "metadata": {},
   "outputs": [],
   "source": [
    "def get_model():\n",
    "    model = Sequential()\n",
    "    model.add(Conv2D(32, kernel_size=(2, 2), activation='relu', input_shape=(feature_dim_1, feature_dim_2, channel)))\n",
    "    model.add(Conv2D(48, kernel_size=(2, 2), activation='relu'))\n",
    "    model.add(Conv2D(120, kernel_size=(2, 2), activation='relu'))\n",
    "    model.add(MaxPooling2D(pool_size=(2, 2)))\n",
    "    model.add(Dropout(0.25))\n",
    "    model.add(Conv2D(120, kernel_size=(2, 2), activation='relu'))\n",
    "    model.add(Conv2D(120, kernel_size=(2, 2), activation='relu'))\n",
    "    model.add(MaxPooling2D(pool_size=(2, 2)))\n",
    "    model.add(Dropout(0.25))\n",
    "    model.add(Flatten())\n",
    "    model.add(Dense(128, activation='relu'))\n",
    "    model.add(Dropout(0.25))\n",
    "    model.add(Dense(64, activation='relu'))\n",
    "    model.add(Dropout(0.4))\n",
    "    model.add(Dense(num_classes, activation='softmax'))\n",
    "    model.compile(loss=keras.losses.categorical_crossentropy,\n",
    "                  optimizer=keras.optimizers.Adadelta(),\n",
    "                  metrics=['accuracy'])\n",
    "    return model"
   ]
  },
  {
   "cell_type": "markdown",
   "metadata": {},
   "source": [
    "### Training"
   ]
  },
  {
   "cell_type": "code",
   "execution_count": 26,
   "metadata": {},
   "outputs": [
    {
     "ename": "NameError",
     "evalue": "name 'Y_train_hot' is not defined",
     "output_type": "error",
     "traceback": [
      "\u001b[0;31m---------------------------------------------------------------------------\u001b[0m",
      "\u001b[0;31mNameError\u001b[0m                                 Traceback (most recent call last)",
      "\u001b[0;32m<ipython-input-26-740eae7500e9>\u001b[0m in \u001b[0;36m<module>\u001b[0;34m\u001b[0m\n\u001b[1;32m      8\u001b[0m \u001b[0mcallbacks_list\u001b[0m \u001b[0;34m=\u001b[0m \u001b[0;34m[\u001b[0m\u001b[0mcheckpoint\u001b[0m\u001b[0;34m]\u001b[0m\u001b[0;34m\u001b[0m\u001b[0;34m\u001b[0m\u001b[0m\n\u001b[1;32m      9\u001b[0m \u001b[0;34m\u001b[0m\u001b[0m\n\u001b[0;32m---> 10\u001b[0;31m history = model.fit(X_train, Y_train_hot, batch_size=batch_size, epochs=epochs, verbose=verbose, \n\u001b[0m\u001b[1;32m     11\u001b[0m                     validation_data=(X_test, Y_test_hot), callbacks=callbacks_list, )\n",
      "\u001b[0;31mNameError\u001b[0m: name 'Y_train_hot' is not defined"
     ]
    }
   ],
   "source": [
    "\n",
    "\n",
    "model = get_model()\n",
    "\n",
    "# checkpoint\n",
    "filepath= \"./models/model2.hdf5\"\n",
    "checkpoint = ModelCheckpoint(filepath, monitor='val_acc', verbose=1, save_best_only=True, mode='max')\n",
    "callbacks_list = [checkpoint]\n",
    "\n",
    "history = model.fit(X_train, Y_train_hot, batch_size=batch_size, epochs=epochs, verbose=verbose, \n",
    "                    validation_data=(X_test, Y_test_hot), callbacks=callbacks_list, )"
   ]
  },
  {
   "cell_type": "code",
   "execution_count": 25,
   "metadata": {},
   "outputs": [
    {
     "name": "stdout",
     "output_type": "stream",
     "text": [
      "WARNING:tensorflow:From /home/tintin/miniconda3/envs/tf36/lib/python3.7/site-packages/tensorflow/python/framework/op_def_library.py:263: colocate_with (from tensorflow.python.framework.ops) is deprecated and will be removed in a future version.\n",
      "Instructions for updating:\n",
      "Colocations handled automatically by placer.\n",
      "WARNING:tensorflow:From /home/tintin/miniconda3/envs/tf36/lib/python3.7/site-packages/keras/backend/tensorflow_backend.py:3445: calling dropout (from tensorflow.python.ops.nn_ops) with keep_prob is deprecated and will be removed in a future version.\n",
      "Instructions for updating:\n",
      "Please use `rate` instead of `keep_prob`. Rate should be set to `rate = 1 - keep_prob`.\n",
      "_________________________________________________________________\n",
      "Layer (type)                 Output Shape              Param #   \n",
      "=================================================================\n",
      "conv2d_1 (Conv2D)            (None, 19, 39, 32)        160       \n",
      "_________________________________________________________________\n",
      "conv2d_2 (Conv2D)            (None, 18, 38, 48)        6192      \n",
      "_________________________________________________________________\n",
      "conv2d_3 (Conv2D)            (None, 17, 37, 120)       23160     \n",
      "_________________________________________________________________\n",
      "max_pooling2d_1 (MaxPooling2 (None, 8, 18, 120)        0         \n",
      "_________________________________________________________________\n",
      "dropout_1 (Dropout)          (None, 8, 18, 120)        0         \n",
      "_________________________________________________________________\n",
      "conv2d_4 (Conv2D)            (None, 7, 17, 120)        57720     \n",
      "_________________________________________________________________\n",
      "conv2d_5 (Conv2D)            (None, 6, 16, 120)        57720     \n",
      "_________________________________________________________________\n",
      "max_pooling2d_2 (MaxPooling2 (None, 3, 8, 120)         0         \n",
      "_________________________________________________________________\n",
      "dropout_2 (Dropout)          (None, 3, 8, 120)         0         \n",
      "_________________________________________________________________\n",
      "flatten_1 (Flatten)          (None, 2880)              0         \n",
      "_________________________________________________________________\n",
      "dense_1 (Dense)              (None, 128)               368768    \n",
      "_________________________________________________________________\n",
      "dropout_3 (Dropout)          (None, 128)               0         \n",
      "_________________________________________________________________\n",
      "dense_2 (Dense)              (None, 64)                8256      \n",
      "_________________________________________________________________\n",
      "dropout_4 (Dropout)          (None, 64)                0         \n",
      "_________________________________________________________________\n",
      "dense_3 (Dense)              (None, 45)                2925      \n",
      "=================================================================\n",
      "Total params: 524,901\n",
      "Trainable params: 524,901\n",
      "Non-trainable params: 0\n",
      "_________________________________________________________________\n"
     ]
    }
   ],
   "source": [
    "# loading the model with the best val accuracy\n",
    "model = get_model()\n",
    "weights_path = COMBINED_MODEL_SAVE_PATH + \"all_data-93-0.83.hdf5\"\n",
    "model.load_weights(weights_path)\n",
    "model.summary()"
   ]
  },
  {
   "cell_type": "markdown",
   "metadata": {},
   "source": [
    "### training plots"
   ]
  },
  {
   "cell_type": "code",
   "execution_count": 31,
   "metadata": {},
   "outputs": [
    {
     "name": "stdout",
     "output_type": "stream",
     "text": [
      "dict_keys(['val_loss', 'val_acc', 'loss', 'acc'])\n"
     ]
    },
    {
     "data": {
      "image/png": "[encoded data removed]",
      "text/plain": [
       "<Figure size 432x288 with 1 Axes>"
      ]
     },
     "metadata": {
      "needs_background": "light"
     },
     "output_type": "display_data"
    },
    {
     "data": {
      "image/png": "[encoded data removed]",
      "text/plain": [
       "<Figure size 432x288 with 1 Axes>"
      ]
     },
     "metadata": {
      "needs_background": "light"
     },
     "output_type": "display_data"
    }
   ],
   "source": [
    "# list all data in history\n",
    "print(history.history.keys())\n",
    "# summarize history for accuracy\n",
    "plt.plot(history.history['acc'])\n",
    "plt.plot(history.history['val_acc'])\n",
    "plt.title('model accuracy')\n",
    "plt.ylabel('accuracy')\n",
    "plt.xlabel('epoch')\n",
    "plt.legend(['train', 'val'], loc='upper left')\n",
    "plt.savefig(COMBINED_MODEL_SAVE_PATH + 'model_accuracy.png')\n",
    "plt.show()\n",
    "\n",
    "\n",
    "# summarize history for loss\n",
    "plt.plot(history.history['loss'])\n",
    "plt.plot(history.history['val_loss'])\n",
    "plt.title('model loss')\n",
    "plt.ylabel('loss')\n",
    "plt.xlabel('epoch')\n",
    "plt.legend(['train', 'val'], loc='upper left')\n",
    "plt.savefig(COMBINED_MODEL_SAVE_PATH + 'model_loss.png')\n",
    "plt.show()\n"
   ]
  },
  {
   "cell_type": "code",
   "execution_count": 32,
   "metadata": {},
   "outputs": [
    {
     "name": "stdout",
     "output_type": "stream",
     "text": [
      "90430/90430 [==============================] - 10s 114us/step\n",
      "11378/11378 [==============================] - 1s 117us/step\n",
      "12751/12751 [==============================] - 2s 119us/step\n",
      "[0.24104025843664986, 0.9328209664934203]\n",
      "[0.6014901317680923, 0.8492705220182073]\n",
      "[0.6722559504448764, 0.8334248294391666]\n"
     ]
    }
   ],
   "source": [
    "#train and test loss and scores respectively\n",
    "train_loss_score=model.evaluate(X_train,Y_train_hot)\n",
    "val_loss_score=model.evaluate(X_val,Y_val_hot)\n",
    "test_loss_score=model.evaluate(X_test,Y_test_hot)\n",
    "print(train_loss_score)\n",
    "print(val_loss_score)\n",
    "print(test_loss_score)"
   ]
  },
  {
   "cell_type": "code",
   "execution_count": 33,
   "metadata": {},
   "outputs": [],
   "source": [
    "# Predicts one sample\n",
    "labels = ['down', 'learn', 'right', 'nine', 'eight', 'dog', 'bird', 'house',\n",
    " 'marvin', 'zero', 'sheila', 'bed', 'follow', 'off', 'happy', 'backward', 'on',\n",
    "  'cat', 'left', 'five', 'visual', 'one', 'no', 'two', 'yes', 'forward', 'tree',\n",
    "   'three', 'go', 'seven', 'six', 'wow', 'stop', 'four', 'up','air_conditioner',\n",
    "   'dog_bark', 'street_music', 'car_horn', 'drilling', 'children_playing',\n",
    "    'siren', 'engine_idling', 'jackhammer', 'gun_shot']\n",
    "\n",
    "def predict(filepath, model,labels):\n",
    "    mfcc = wav2mfcc(testFile, max_len=40)\n",
    "    mfcc_reshaped = mfcc.reshape(1,feature_dim_1,feature_dim_2,channel)\n",
    "    odds= model.predict(mfcc_reshaped)\n",
    "    odds_max = np.argmax(odds)\n",
    "    label = labels[odds_max]\n",
    "    return label"
   ]
  },
  {
   "cell_type": "code",
   "execution_count": 34,
   "metadata": {},
   "outputs": [
    {
     "name": "stdout",
     "output_type": "stream",
     "text": [
      "happy\n"
     ]
    }
   ],
   "source": [
    "testFile = SPEECH_DATA_PATH + 'happy/27c30960_nohash_0.wav'\n",
    "print(predict(testFile,model,labels))"
   ]
  },
  {
   "cell_type": "code",
   "execution_count": 32,
   "metadata": {},
   "outputs": [],
   "source": [
    "from keras.utils import plot_model\n",
    "feature_dim_1 = 20\n",
    "channel = 1\n",
    "\n",
    "num_classes = 45 \n",
    "#max_len\n",
    "model = get_model()\n",
    "plot_model(model, show_shapes = True, show_layer_names = True,to_file='model.png')"
   ]
  },
  {
   "cell_type": "code",
   "execution_count": null,
   "metadata": {},
   "outputs": [],
   "source": []
  }
 ],
 "metadata": {
  "kernelspec": {
   "display_name": "Python 3",
   "language": "python",
   "name": "python3"
  },
  "language_info": {
   "codemirror_mode": {
    "name": "ipython",
    "version": 3
   },
   "file_extension": ".py",
   "mimetype": "text/x-python",
   "name": "python",
   "nbconvert_exporter": "python",
   "pygments_lexer": "ipython3",
   "version": "3.7.3"
  }
 },
 "nbformat": 4,
 "nbformat_minor": 2
}
