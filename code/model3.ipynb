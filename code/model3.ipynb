{
 "cells": [
  {
   "cell_type": "code",
   "execution_count": 1,
   "metadata": {},
   "outputs": [
    {
     "name": "stderr",
     "output_type": "stream",
     "text": [
      "Using TensorFlow backend.\n"
     ]
    }
   ],
   "source": [
    "%load_ext autoreload\n",
    "%autoreload 2\n",
    "\n",
    "\n",
    "\n",
    "import librosa\n",
    "import os\n",
    "from sklearn.model_selection import train_test_split\n",
    "from keras.utils import to_categorical\n",
    "import numpy as np\n",
    "from tqdm import tqdm\n",
    "from preprocess import *\n",
    "import keras\n",
    "from keras.models import Sequential\n",
    "from keras.layers import Dense, Dropout, Flatten, Conv2D, MaxPooling2D, CuDNNLSTM, LSTM, ConvLSTM2D, Bidirectional\n",
    "from keras.layers import GlobalMaxPooling2D , GlobalMaxPooling1D, MaxPooling2D, Activation, BatchNormalization, GlobalAveragePooling2D, GlobalMaxPool2D, concatenate\n",
    "from keras.utils import to_categorical\n",
    "from keras.callbacks import EarlyStopping, ModelCheckpoint, ReduceLROnPlateau\n",
    "import matplotlib.pyplot as plt"
   ]
  },
  {
   "cell_type": "code",
   "execution_count": 2,
   "metadata": {},
   "outputs": [],
   "source": [
    "SPEECH_DATA_PATH = \"./speech/data/\"\n",
    "\n",
    "URBAN_NOISE_DATA_PATH = \"./urban/data/\"\n",
    "\n",
    "COMBINED_DATA_PATH = \"./combined/data/\"\n",
    "\n",
    "SPEECH_NPY_PATH = \"./40bins/npy/\"\n",
    "\n",
    "URBAN_NOISE_NPY_PATH = \"./40bins/npy/\"\n",
    "\n",
    "COMBINED_NPY_PATH =  \"./combined/40bins/npy/\"\n",
    "\n",
    "COMBINED_MODEL_SAVE_PATH = \"./models/40bins-model3\"\n"
   ]
  },
  {
   "cell_type": "code",
   "execution_count": 3,
   "metadata": {},
   "outputs": [],
   "source": [
    "# speech test and val file paths\n",
    "testFile = \"./data/testing_list.txt\"\n",
    "valFile = \"./data/validation_list.txt\"\n"
   ]
  },
  {
   "cell_type": "markdown",
   "metadata": {},
   "source": [
    "### function to convert wav file to mfccs"
   ]
  },
  {
   "cell_type": "code",
   "execution_count": 4,
   "metadata": {},
   "outputs": [],
   "source": [
    "##function to convert wav2mfcc\n",
    "# samp rate of the speech wav files is 16000\n",
    "# samp rate of the urban noise wav files is 8000\n",
    "# use the samprate argument to change that.... will downsample speech wav files to 8000 in the future to make it easier\n",
    "def wav2mfcc(file_path, max_len=11,samprate = 8000):\n",
    "    wave, sr = librosa.load(file_path, mono=True, sr=None)\n",
    "    wave = wave[::3]\n",
    "    ##mfcc = librosa.feature.mfcc(wave, sr=16000)\n",
    "    mfcc = librosa.feature.mfcc(wave, sr=samprate)\n",
    "    # If maximum length exceeds mfcc lengths then pad the remaining ones\n",
    "    if (max_len > mfcc.shape[1]):\n",
    "        pad_width = max_len - mfcc.shape[1]\n",
    "        mfcc = np.pad(mfcc, pad_width=((0, 0), (0, pad_width)), mode='constant')\n",
    "\n",
    "    # Else cutoff the remaining parts\n",
    "    else:\n",
    "        mfcc = mfcc[:, :max_len]\n",
    "    \n",
    "    return mfcc"
   ]
  },
  {
   "cell_type": "code",
   "execution_count": 5,
   "metadata": {},
   "outputs": [],
   "source": [
    "# args: Folder Path\n",
    "# Output: Tuple (Label, Indices of the labels, one-hot encoded labels)\n",
    "# make sure the background noise folder is not insde the DATA_PATH. because that is used for data augmentation and not recognition\n",
    "def get_labels(path=COMBINED_DATA_PATH):\n",
    "    labels = os.listdir(path)\n",
    "    label_indices = np.arange(0, len(labels))\n",
    "    return labels, label_indices, to_categorical(label_indices)\n"
   ]
  },
  {
   "cell_type": "markdown",
   "metadata": {},
   "source": [
    "### function to extract and save features from speech commands data"
   ]
  },
  {
   "cell_type": "code",
   "execution_count": 6,
   "metadata": {},
   "outputs": [],
   "source": [
    "# write the save data code here....with test train and val split\n",
    "# make sure the background_noise folder is not in the path\n",
    "def save_data_speech(path = SPEECH_DATA_PATH, testFile = testFile, valFile = valFile, max_len = 11,savepath = SPEECH_NPY_PATH):\n",
    "\n",
    "    test_file = open(testFile, \"r\")\n",
    "    testFilesList = test_file.read().split('\\n')\n",
    "\n",
    "    val_file = open(valFile, \"r\")\n",
    "    valFilesList = val_file.read().split('\\n')\n",
    "\n",
    "    #print(testFilesList)\n",
    "    #print(valFilesList)\n",
    "    labels,_,_ = get_labels(path)\n",
    "    print(labels)\n",
    "    for label in labels:\n",
    "        mfcc_train = []\n",
    "        mfcc_test = []\n",
    "        mfcc_val = []\n",
    "        # saving a tuple of wavfile path and label/name format to compare in the test and val list\n",
    "        wavfiles = [(path + label + '/' + wavfile, label + '/' + wavfile)\n",
    "                    for wavfile in os.listdir(path + '/' + label)]\n",
    "        \n",
    "        #print(wavfiles)\n",
    "        \n",
    "        for wavfile in tqdm(wavfiles, \"Saving vectors of label - '{}'\".format(label)):\n",
    "            #print(wavfile[0])\n",
    "            #print(wavfile[1])\n",
    "            mfcc = wav2mfcc(wavfile[0], max_len=max_len)\n",
    "            if wavfile[1] in testFilesList:\n",
    "                mfcc_test.append(mfcc)\n",
    "            elif wavfile[1] in valFilesList:\n",
    "                mfcc_val.append(mfcc)\n",
    "            else:\n",
    "                mfcc_train.append(mfcc)\n",
    "                \n",
    "        np.save(savepath + label + '_test.npy', mfcc_test)\n",
    "        np.save(savepath + label + '_val.npy', mfcc_val)\n",
    "        np.save(savepath + label + '_train.npy', mfcc_train)"
   ]
  },
  {
   "cell_type": "markdown",
   "metadata": {},
   "source": [
    "### function to extract and save features from urban sounds data"
   ]
  },
  {
   "cell_type": "code",
   "execution_count": 7,
   "metadata": {},
   "outputs": [],
   "source": [
    "# just saving the urban data as the npy file.\n",
    "# will split the data into test train and val after loading the data nd the labels by using a test_train split function\n",
    "def save_urbanNoise_data(path = URBAN_NOISE_DATA_PATH, max_len = 11, savePath = URBAN_NOISE_NPY_PATH):\n",
    "    labels,_,_ = get_labels(path)\n",
    "    for label in labels:\n",
    "        mfccs = []\n",
    "        mfcc_train = []\n",
    "        mfcc_test = []\n",
    "        mfcc_val = []\n",
    "        print(label)\n",
    "        \n",
    "        wavfiles = [path + label + '/' + wavfile for wavfile in os.listdir(path + '/' + label)]\n",
    "        \n",
    "        for wavfile in tqdm(wavfiles, \"saving vectors of label - '{}'\".format(label)):\n",
    "            try:\n",
    "                mfcc = wav2mfcc(wavfile, max_len = max_len)\n",
    "                mfccs.append(mfcc)\n",
    "            except:\n",
    "                print(wavfile)\n",
    "        \n",
    "        np.save(savePath + label + '.npy', mfccs)"
   ]
  },
  {
   "cell_type": "code",
   "execution_count": 8,
   "metadata": {},
   "outputs": [],
   "source": [
    "# save data\n",
    "# Second dimension of the feature is dim2\n",
    "feature_dim_2 = 40      #max_len"
   ]
  },
  {
   "cell_type": "code",
   "execution_count": null,
   "metadata": {
    "scrolled": true
   },
   "outputs": [],
   "source": [
    "\n",
    "\n",
    "# speech data\n",
    "save_data_speech(max_len = feature_dim_2)\n"
   ]
  },
  {
   "cell_type": "code",
   "execution_count": null,
   "metadata": {},
   "outputs": [],
   "source": [
    "#urban Noise data\n",
    "save_urbanNoise_data(max_len = feature_dim_2)"
   ]
  },
  {
   "cell_type": "markdown",
   "metadata": {},
   "source": [
    "### loading the saved feature data"
   ]
  },
  {
   "cell_type": "code",
   "execution_count": 9,
   "metadata": {},
   "outputs": [],
   "source": [
    "# get the urbanNoiseData along with their labels then split them into train,val and split and save as npy files\n",
    "# we will get all the data from all the classes append them into an array and then use a test train split function\n",
    "def getUrbanNoiseDataSplit(path = URBAN_NOISE_DATA_PATH, savePath = URBAN_NOISE_NPY_PATH, split_ratio=0.8,random_state = 42):\n",
    "    labels, indices, _ = get_labels(path)\n",
    "    # get the array for each label\n",
    "    X = np.load(savePath + labels[0] + '.npy')\n",
    "    Y = np.zeros(X.shape[0])\n",
    "\n",
    "    # Append all of the dataset into one single array, same goes for y\n",
    "    # filling with i+1 in each loop so basically starting the class values from 0 to 9.\n",
    "    for i, label in enumerate(labels[1:]):\n",
    "        x = np.load(savePath + label + '.npy')\n",
    "        X = np.vstack((X, x))\n",
    "        Y = np.append(Y, np.full(x.shape[0], fill_value= (i + 1)))\n",
    "\n",
    "    assert X.shape[0] == len(Y)\n",
    "    \n",
    "    # not shuffling the data for now. Will shuffle them while training\n",
    "    X_temp, X_test, Y_temp, Y_test = train_test_split(X, Y, test_size= (1 - split_ratio), random_state=random_state, shuffle=True)\n",
    "    X_train, X_val, Y_train, Y_val = train_test_split(X_temp,Y_temp, test_size = (1-split_ratio), random_state = random_state,shuffle = True)\n",
    "    \n",
    "    return labels,X_train,X_val,X_test,Y_train,Y_val,Y_test"
   ]
  },
  {
   "cell_type": "code",
   "execution_count": 10,
   "metadata": {},
   "outputs": [],
   "source": [
    "# for speech we already split the data into train test and val and then saved the data. \n",
    "# so now we just need to import the data and then append all the labels\n",
    "def getSpeechDataSplit(path = SPEECH_DATA_PATH, savePath = SPEECH_NPY_PATH):\n",
    "    \n",
    "    labels, indices, _ = get_labels(path)\n",
    "    # get the array for each label\n",
    "    X_train = np.load(savePath + labels[0] + '_train.npy')\n",
    "    Y_train = np.zeros(X_train.shape[0])\n",
    "    X_val = np.load(savePath + labels[0] + '_val.npy')\n",
    "    Y_val = np.zeros(X_val.shape[0])\n",
    "    X_test = np.load(savePath + labels[0] + '_test.npy')\n",
    "    Y_test = np.zeros(X_test.shape[0])\n",
    "    \n",
    "    for i,label in enumerate(labels[1:]):\n",
    "        x_train = np.load(savePath + label + '_train.npy')\n",
    "        x_val = np.load(savePath + label + '_val.npy')\n",
    "        x_test = np.load(savePath + label + '_test.npy')\n",
    "        X_train = np.vstack((X_train, x_train))\n",
    "        X_val = np.vstack((X_val, x_val))\n",
    "        X_test = np.vstack((X_test, x_test))\n",
    "        \n",
    "        Y_train = np.append(Y_train, np.full(x_train.shape[0],fill_value= (i+1)))\n",
    "        Y_val = np.append(Y_val, np.full(x_val.shape[0],fill_value= (i+1)))\n",
    "        Y_test = np.append(Y_test, np.full(x_test.shape[0],fill_value= (i+1)))\n",
    "    \n",
    "        \n",
    "    return labels,X_train,X_val,X_test,Y_train,Y_val,Y_test"
   ]
  },
  {
   "cell_type": "code",
   "execution_count": 11,
   "metadata": {},
   "outputs": [
    {
     "name": "stdout",
     "output_type": "stream",
     "text": [
      "['air_conditioner', 'dog_bark', 'street_music', 'car_horn', 'drilling', 'children_playing', 'siren', 'engine_idling', 'jackhammer', 'gun_shot']\n"
     ]
    }
   ],
   "source": [
    "# # Loading train set and test set of urban Noise\n",
    "labels_un, X_train_un,X_val_un, X_test_un, Y_train_un,Y_val_un, Y_test_un = getUrbanNoiseDataSplit()\n",
    "print(labels_un)"
   ]
  },
  {
   "cell_type": "code",
   "execution_count": 12,
   "metadata": {},
   "outputs": [
    {
     "name": "stdout",
     "output_type": "stream",
     "text": [
      "['down', 'learn', 'right', 'nine', 'eight', 'dog', 'bird', 'house', 'marvin', 'zero', 'sheila', 'bed', 'follow', 'off', 'happy', 'backward', 'on', 'cat', 'left', 'five', 'visual', 'one', 'no', 'two', 'yes', 'forward', 'tree', 'three', 'go', 'seven', 'six', 'wow', 'stop', 'four', 'up']\n"
     ]
    }
   ],
   "source": [
    "# # Loading train set and test set of speech\n",
    "labels_sp, X_train_sp,X_val_sp, X_test_sp, Y_train_sp,Y_val_sp, Y_test_sp = getSpeechDataSplit()\n",
    "print(labels_sp)"
   ]
  },
  {
   "cell_type": "code",
   "execution_count": 13,
   "metadata": {},
   "outputs": [
    {
     "data": {
      "text/plain": [
       "((5587, 20, 40), (1397, 20, 40), (1746, 20, 40), (5587,), (1397,), (1746,))"
      ]
     },
     "execution_count": 13,
     "metadata": {},
     "output_type": "execute_result"
    }
   ],
   "source": [
    "# print shapes of all arrays\n",
    "X_train_un.shape,X_val_un.shape, X_test_un.shape, Y_train_un.shape,Y_val_un.shape, Y_test_un.shape"
   ]
  },
  {
   "cell_type": "code",
   "execution_count": 14,
   "metadata": {},
   "outputs": [
    {
     "data": {
      "text/plain": [
       "((84843, 20, 40), (9981, 20, 40), (11005, 20, 40), (84843,), (9981,), (11005,))"
      ]
     },
     "execution_count": 14,
     "metadata": {},
     "output_type": "execute_result"
    }
   ],
   "source": [
    "X_train_sp.shape,X_val_sp.shape, X_test_sp.shape, Y_train_sp.shape,Y_val_sp.shape, Y_test_sp.shape"
   ]
  },
  {
   "cell_type": "code",
   "execution_count": 15,
   "metadata": {},
   "outputs": [
    {
     "name": "stdout",
     "output_type": "stream",
     "text": [
      "45\n"
     ]
    }
   ],
   "source": [
    "# if we want to combine both the samples we just need to add the Y sample with the numeber of labels in the previous dataset\n",
    "\n",
    "# combining samples\n",
    "labels = labels_sp + labels_un\n",
    "print(len(labels))\n",
    "\n"
   ]
  },
  {
   "cell_type": "markdown",
   "metadata": {},
   "source": [
    "### Merging data"
   ]
  },
  {
   "cell_type": "code",
   "execution_count": 16,
   "metadata": {},
   "outputs": [],
   "source": [
    "# we add 35 to the urban Noise Y data to make them into the new labels\n",
    "\n",
    "\n",
    "Y_train_un_new = Y_train_un + 35\n",
    "Y_test_un_new = Y_test_un + 35\n",
    "Y_val_un_new = Y_val_un + 35\n",
    "\n"
   ]
  },
  {
   "cell_type": "code",
   "execution_count": 17,
   "metadata": {},
   "outputs": [
    {
     "name": "stdout",
     "output_type": "stream",
     "text": [
      "(90430,)\n",
      "(12751,)\n",
      "(11378,)\n"
     ]
    }
   ],
   "source": [
    "Y_train = np.append(Y_train_sp, Y_train_un_new)\n",
    "Y_test = np.append(Y_test_sp, Y_test_un_new)\n",
    "Y_val = np.append(Y_val_sp, Y_val_un_new)\n",
    "\n",
    "print(Y_train.shape)\n",
    "print(Y_test.shape)\n",
    "print(Y_val.shape)"
   ]
  },
  {
   "cell_type": "code",
   "execution_count": 18,
   "metadata": {},
   "outputs": [
    {
     "name": "stdout",
     "output_type": "stream",
     "text": [
      "[ 0.  0.  0. ... 39. 37. 35.]\n",
      "[ 0.  0.  0. ... 37. 38. 42.]\n",
      "[ 0.  0.  0. ... 39. 36. 41.]\n"
     ]
    }
   ],
   "source": [
    "print(Y_test)\n",
    "print(Y_train)\n",
    "print(Y_val)"
   ]
  },
  {
   "cell_type": "code",
   "execution_count": 19,
   "metadata": {},
   "outputs": [
    {
     "name": "stdout",
     "output_type": "stream",
     "text": [
      "(90430, 20, 40)\n",
      "(12751, 20, 40)\n",
      "(11378, 20, 40)\n"
     ]
    }
   ],
   "source": [
    "X_train = np.vstack((X_train_sp, X_train_un))\n",
    "X_test = np.vstack((X_test_sp, X_test_un))\n",
    "X_val = np.vstack((X_val_sp, X_val_un))\n",
    "\n",
    "\n",
    "print(X_train.shape)\n",
    "print(X_test.shape)\n",
    "print(X_val.shape)"
   ]
  },
  {
   "cell_type": "code",
   "execution_count": 20,
   "metadata": {},
   "outputs": [],
   "source": [
    "# we have combined data set and seperate datasets\n",
    "# X_train_un, X_test_un, X_val_un, Y_train_un, Y_test_un, Y_val_un ---urban Noise data - 10 clasees - (0-9)\n",
    "# X_train_sp, X_test_sp, X_val_sp, Y_train_sp, Y_test_sp, Y_val_sp --- speech data - 35 classes - (0-34)\n",
    "# X_train, X_test, X_val, Y_train, Y_test, Y_val --- combined dtat - 45 classes (0-44)"
   ]
  },
  {
   "cell_type": "code",
   "execution_count": 21,
   "metadata": {},
   "outputs": [],
   "source": [
    "# # Feature dimension\n",
    "feature_dim_1 = 20\n",
    "channel = 1\n",
    "epochs = 200\n",
    "batch_size = 100\n",
    "verbose = 1\n",
    "num_classes = 45    #keeps changing\n"
   ]
  },
  {
   "cell_type": "code",
   "execution_count": 22,
   "metadata": {},
   "outputs": [],
   "source": [
    "# Reshaping to perform 2D convolution\n",
    "# all data\n",
    "\n",
    "X_train = X_train.reshape(X_train.shape[0], feature_dim_1, feature_dim_2, channel)\n",
    "X_val = X_val.reshape(X_val.shape[0], feature_dim_1, feature_dim_2, channel)\n",
    "X_test = X_test.reshape(X_test.shape[0], feature_dim_1, feature_dim_2, channel)\n",
    "\n",
    "Y_train_hot = to_categorical(Y_train)\n",
    "Y_val_hot = to_categorical(Y_val)\n",
    "Y_test_hot = to_categorical(Y_test)"
   ]
  },
  {
   "cell_type": "code",
   "execution_count": 23,
   "metadata": {},
   "outputs": [],
   "source": [
    "# Reshaping to perform 2D convolution\n",
    "# all data\n",
    "\n",
    "X_train_un = X_train_un.reshape(X_train_un.shape[0], feature_dim_1, feature_dim_2, channel)\n",
    "X_val_un = X_val_un.reshape(X_val_un.shape[0], feature_dim_1, feature_dim_2, channel)\n",
    "X_test_un = X_test_un.reshape(X_test_un.shape[0], feature_dim_1, feature_dim_2, channel)\n",
    "\n",
    "Y_train_un_hot = to_categorical(Y_train_un)\n",
    "Y_val_un_hot = to_categorical(Y_val_un)\n",
    "Y_test_un_hot = to_categorical(Y_test_un)"
   ]
  },
  {
   "cell_type": "code",
   "execution_count": 24,
   "metadata": {},
   "outputs": [],
   "source": [
    "# Reshaping to perform 2D convolution\n",
    "# all data\n",
    "\n",
    "X_train_sp = X_train_sp.reshape(X_train_sp.shape[0], feature_dim_1, feature_dim_2, channel)\n",
    "X_val_sp = X_val_sp.reshape(X_val_sp.shape[0], feature_dim_1, feature_dim_2, channel)\n",
    "X_test_sp = X_test_sp.reshape(X_test_sp.shape[0], feature_dim_1, feature_dim_2, channel)\n",
    "\n",
    "Y_train_sp_hot = to_categorical(Y_train_sp)\n",
    "Y_val_sp_hot = to_categorical(Y_val_sp)\n",
    "Y_test_sp_hot = to_categorical(Y_test_sp)"
   ]
  },
  {
   "cell_type": "code",
   "execution_count": 25,
   "metadata": {},
   "outputs": [
    {
     "name": "stdout",
     "output_type": "stream",
     "text": [
      "(90430, 20, 40, 1)\n",
      "(12751, 20, 40, 1)\n",
      "(11378, 20, 40, 1)\n",
      "(90430, 45)\n",
      "(12751, 45)\n",
      "(11378, 45)\n"
     ]
    }
   ],
   "source": [
    "print(X_train.shape)\n",
    "print(X_test.shape)\n",
    "print(X_val.shape)\n",
    "\n",
    "print(Y_train_hot.shape)\n",
    "print(Y_test_hot.shape)\n",
    "print(Y_val_hot.shape)"
   ]
  },
  {
   "cell_type": "markdown",
   "metadata": {},
   "source": [
    "### Model definition"
   ]
  },
  {
   "cell_type": "code",
   "execution_count": 28,
   "metadata": {},
   "outputs": [],
   "source": [
    "def get_model():\n",
    "    model = Sequential()\n",
    "    model.add(Conv2D(32, kernel_size=(2, 2), input_shape=(feature_dim_1, feature_dim_2, channel)))\n",
    "    model.add(BatchNormalization())\n",
    "    model.add(Activation(\"relu\"))\n",
    "    model.add(Conv2D(48, kernel_size=(2, 2)))\n",
    "    model.add(BatchNormalization())\n",
    "    model.add(Activation(\"relu\"))\n",
    "    model.add(Conv2D(120, kernel_size=(2, 2)))\n",
    "    model.add(BatchNormalization())\n",
    "    model.add(Activation(\"relu\"))\n",
    "    model.add(MaxPooling2D(pool_size=(2, 2)))\n",
    "    model.add(Dropout(0.25))\n",
    "    model.add(Conv2D(120, kernel_size=(2, 2)))\n",
    "    model.add(BatchNormalization())\n",
    "    model.add(Activation(\"relu\"))\n",
    "    model.add(Conv2D(120, kernel_size=(2, 2)))\n",
    "    model.add(BatchNormalization())\n",
    "    model.add(Activation(\"relu\"))\n",
    "    model.add(MaxPooling2D(pool_size=(2, 2)))\n",
    "    model.add(Dropout(0.25))\n",
    "    model.add(Flatten())\n",
    "    model.add(Dense(128, activation='relu'))\n",
    "    model.add(Dropout(0.25))\n",
    "    model.add(Dense(64, activation='relu'))\n",
    "    model.add(Dropout(0.4))\n",
    "    model.add(Dense(num_classes, activation='softmax'))\n",
    "    model.compile(loss=keras.losses.categorical_crossentropy,\n",
    "                  optimizer=keras.optimizers.Adadelta(),\n",
    "                  metrics=['accuracy'])\n",
    "    return model"
   ]
  },
  {
   "cell_type": "markdown",
   "metadata": {},
   "source": [
    "### Training"
   ]
  },
  {
   "cell_type": "code",
   "execution_count": 29,
   "metadata": {},
   "outputs": [
    {
     "name": "stdout",
     "output_type": "stream",
     "text": [
      "_________________________________________________________________\n",
      "Layer (type)                 Output Shape              Param #   \n",
      "=================================================================\n",
      "conv2d_13 (Conv2D)           (None, 19, 39, 32)        160       \n",
      "_________________________________________________________________\n",
      "batch_normalization_2 (Batch (None, 19, 39, 32)        128       \n",
      "_________________________________________________________________\n",
      "activation_2 (Activation)    (None, 19, 39, 32)        0         \n",
      "_________________________________________________________________\n",
      "conv2d_14 (Conv2D)           (None, 18, 38, 48)        6192      \n",
      "_________________________________________________________________\n",
      "batch_normalization_3 (Batch (None, 18, 38, 48)        192       \n",
      "_________________________________________________________________\n",
      "activation_3 (Activation)    (None, 18, 38, 48)        0         \n",
      "_________________________________________________________________\n",
      "conv2d_15 (Conv2D)           (None, 17, 37, 120)       23160     \n",
      "_________________________________________________________________\n",
      "batch_normalization_4 (Batch (None, 17, 37, 120)       480       \n",
      "_________________________________________________________________\n",
      "activation_4 (Activation)    (None, 17, 37, 120)       0         \n",
      "_________________________________________________________________\n",
      "max_pooling2d_5 (MaxPooling2 (None, 8, 18, 120)        0         \n",
      "_________________________________________________________________\n",
      "dropout_9 (Dropout)          (None, 8, 18, 120)        0         \n",
      "_________________________________________________________________\n",
      "conv2d_16 (Conv2D)           (None, 7, 17, 120)        57720     \n",
      "_________________________________________________________________\n",
      "batch_normalization_5 (Batch (None, 7, 17, 120)        480       \n",
      "_________________________________________________________________\n",
      "activation_5 (Activation)    (None, 7, 17, 120)        0         \n",
      "_________________________________________________________________\n",
      "conv2d_17 (Conv2D)           (None, 6, 16, 120)        57720     \n",
      "_________________________________________________________________\n",
      "batch_normalization_6 (Batch (None, 6, 16, 120)        480       \n",
      "_________________________________________________________________\n",
      "activation_6 (Activation)    (None, 6, 16, 120)        0         \n",
      "_________________________________________________________________\n",
      "max_pooling2d_6 (MaxPooling2 (None, 3, 8, 120)         0         \n",
      "_________________________________________________________________\n",
      "dropout_10 (Dropout)         (None, 3, 8, 120)         0         \n",
      "_________________________________________________________________\n",
      "flatten_3 (Flatten)          (None, 2880)              0         \n",
      "_________________________________________________________________\n",
      "dense_7 (Dense)              (None, 128)               368768    \n",
      "_________________________________________________________________\n",
      "dropout_11 (Dropout)         (None, 128)               0         \n",
      "_________________________________________________________________\n",
      "dense_8 (Dense)              (None, 64)                8256      \n",
      "_________________________________________________________________\n",
      "dropout_12 (Dropout)         (None, 64)                0         \n",
      "_________________________________________________________________\n",
      "dense_9 (Dense)              (None, 45)                2925      \n",
      "=================================================================\n",
      "Total params: 526,661\n",
      "Trainable params: 525,781\n",
      "Non-trainable params: 880\n",
      "_________________________________________________________________\n",
      "Train on 90430 samples, validate on 11378 samples\n",
      "Epoch 1/200\n",
      "90430/90430 [==============================] - 424s 5ms/step - loss: 3.0936 - acc: 0.1318 - val_loss: 2.3498 - val_acc: 0.2701\n",
      "\n",
      "Epoch 00001: val_acc improved from -inf to 0.27008, saving model to /media/tintin/3bde46c1-cca7-4db6-b2ca-e71397572866/tintin/speech-urban-data/combined/40_2blocks_updateLr_batchNorm/all_data-01-0.27.hdf5\n",
      "Epoch 2/200\n",
      "90430/90430 [==============================] - 426s 5ms/step - loss: 2.0228 - acc: 0.3877 - val_loss: 1.3541 - val_acc: 0.5778\n",
      "\n",
      "Epoch 00002: val_acc improved from 0.27008 to 0.57778, saving model to /media/tintin/3bde46c1-cca7-4db6-b2ca-e71397572866/tintin/speech-urban-data/combined/40_2blocks_updateLr_batchNorm/all_data-02-0.58.hdf5\n",
      "Epoch 3/200\n",
      "90430/90430 [==============================] - 428s 5ms/step - loss: 1.5456 - acc: 0.5375 - val_loss: 1.0978 - val_acc: 0.6676\n",
      "\n",
      "Epoch 00003: val_acc improved from 0.57778 to 0.66760, saving model to /media/tintin/3bde46c1-cca7-4db6-b2ca-e71397572866/tintin/speech-urban-data/combined/40_2blocks_updateLr_batchNorm/all_data-03-0.67.hdf5\n",
      "Epoch 4/200\n",
      "90430/90430 [==============================] - 426s 5ms/step - loss: 1.3125 - acc: 0.6131 - val_loss: 1.0111 - val_acc: 0.6935\n",
      "\n",
      "Epoch 00004: val_acc improved from 0.66760 to 0.69353, saving model to /media/tintin/3bde46c1-cca7-4db6-b2ca-e71397572866/tintin/speech-urban-data/combined/40_2blocks_updateLr_batchNorm/all_data-04-0.69.hdf5\n",
      "Epoch 5/200\n",
      "90430/90430 [==============================] - 417s 5ms/step - loss: 1.1710 - acc: 0.6604 - val_loss: 0.8386 - val_acc: 0.7443\n",
      "\n",
      "Epoch 00005: val_acc improved from 0.69353 to 0.74433, saving model to /media/tintin/3bde46c1-cca7-4db6-b2ca-e71397572866/tintin/speech-urban-data/combined/40_2blocks_updateLr_batchNorm/all_data-05-0.74.hdf5\n",
      "Epoch 6/200\n",
      "90430/90430 [==============================] - 416s 5ms/step - loss: 1.0767 - acc: 0.6902 - val_loss: 0.8589 - val_acc: 0.7377\n",
      "\n",
      "Epoch 00006: val_acc did not improve from 0.74433\n",
      "Epoch 7/200\n",
      "90430/90430 [==============================] - 416s 5ms/step - loss: 1.0054 - acc: 0.7116 - val_loss: 0.7681 - val_acc: 0.7674\n",
      "\n",
      "Epoch 00007: val_acc improved from 0.74433 to 0.76745, saving model to /media/tintin/3bde46c1-cca7-4db6-b2ca-e71397572866/tintin/speech-urban-data/combined/40_2blocks_updateLr_batchNorm/all_data-07-0.77.hdf5\n",
      "Epoch 8/200\n",
      "90430/90430 [==============================] - 419s 5ms/step - loss: 0.9536 - acc: 0.7257 - val_loss: 0.7205 - val_acc: 0.7877\n",
      "\n",
      "Epoch 00008: val_acc improved from 0.76745 to 0.78775, saving model to /media/tintin/3bde46c1-cca7-4db6-b2ca-e71397572866/tintin/speech-urban-data/combined/40_2blocks_updateLr_batchNorm/all_data-08-0.79.hdf5\n",
      "Epoch 9/200\n",
      "90430/90430 [==============================] - 425s 5ms/step - loss: 0.9096 - acc: 0.7401 - val_loss: 0.7187 - val_acc: 0.7845\n",
      "\n",
      "Epoch 00009: val_acc did not improve from 0.78775\n",
      "Epoch 10/200\n",
      "90430/90430 [==============================] - 419s 5ms/step - loss: 0.8713 - acc: 0.7493 - val_loss: 0.6987 - val_acc: 0.7934\n",
      "\n",
      "Epoch 00010: val_acc improved from 0.78775 to 0.79337, saving model to /media/tintin/3bde46c1-cca7-4db6-b2ca-e71397572866/tintin/speech-urban-data/combined/40_2blocks_updateLr_batchNorm/all_data-10-0.79.hdf5\n",
      "Epoch 11/200\n",
      "90430/90430 [==============================] - 423s 5ms/step - loss: 0.8476 - acc: 0.7591 - val_loss: 0.6555 - val_acc: 0.8057\n",
      "\n",
      "Epoch 00011: val_acc improved from 0.79337 to 0.80568, saving model to /media/tintin/3bde46c1-cca7-4db6-b2ca-e71397572866/tintin/speech-urban-data/combined/40_2blocks_updateLr_batchNorm/all_data-11-0.81.hdf5\n",
      "Epoch 12/200\n",
      "90430/90430 [==============================] - 416s 5ms/step - loss: 0.8206 - acc: 0.7682 - val_loss: 0.6455 - val_acc: 0.8081\n",
      "\n",
      "Epoch 00012: val_acc improved from 0.80568 to 0.80805, saving model to /media/tintin/3bde46c1-cca7-4db6-b2ca-e71397572866/tintin/speech-urban-data/combined/40_2blocks_updateLr_batchNorm/all_data-12-0.81.hdf5\n",
      "Epoch 13/200\n",
      "90430/90430 [==============================] - 415s 5ms/step - loss: 0.7972 - acc: 0.7738 - val_loss: 0.6331 - val_acc: 0.8133\n",
      "\n",
      "Epoch 00013: val_acc improved from 0.80805 to 0.81332, saving model to /media/tintin/3bde46c1-cca7-4db6-b2ca-e71397572866/tintin/speech-urban-data/combined/40_2blocks_updateLr_batchNorm/all_data-13-0.81.hdf5\n",
      "Epoch 14/200\n",
      "90430/90430 [==============================] - 415s 5ms/step - loss: 0.7760 - acc: 0.7820 - val_loss: 0.6306 - val_acc: 0.8192\n",
      "\n",
      "Epoch 00014: val_acc improved from 0.81332 to 0.81921, saving model to /media/tintin/3bde46c1-cca7-4db6-b2ca-e71397572866/tintin/speech-urban-data/combined/40_2blocks_updateLr_batchNorm/all_data-14-0.82.hdf5\n",
      "Epoch 15/200\n"
     ]
    },
    {
     "name": "stdout",
     "output_type": "stream",
     "text": [
      "90430/90430 [==============================] - 409s 5ms/step - loss: 0.7566 - acc: 0.7867 - val_loss: 0.6549 - val_acc: 0.8108\n",
      "\n",
      "Epoch 00015: val_acc did not improve from 0.81921\n",
      "Epoch 16/200\n",
      "90430/90430 [==============================] - 413s 5ms/step - loss: 0.7427 - acc: 0.7910 - val_loss: 0.7027 - val_acc: 0.8027\n",
      "\n",
      "Epoch 00016: val_acc did not improve from 0.81921\n",
      "Epoch 17/200\n",
      "90430/90430 [==============================] - 413s 5ms/step - loss: 0.7291 - acc: 0.7943 - val_loss: 0.5940 - val_acc: 0.8311\n",
      "\n",
      "Epoch 00017: val_acc improved from 0.81921 to 0.83108, saving model to /media/tintin/3bde46c1-cca7-4db6-b2ca-e71397572866/tintin/speech-urban-data/combined/40_2blocks_updateLr_batchNorm/all_data-17-0.83.hdf5\n",
      "Epoch 18/200\n",
      "90430/90430 [==============================] - 407s 5ms/step - loss: 0.7149 - acc: 0.7995 - val_loss: 0.5977 - val_acc: 0.8317\n",
      "\n",
      "Epoch 00018: val_acc improved from 0.83108 to 0.83169, saving model to /media/tintin/3bde46c1-cca7-4db6-b2ca-e71397572866/tintin/speech-urban-data/combined/40_2blocks_updateLr_batchNorm/all_data-18-0.83.hdf5\n",
      "Epoch 19/200\n",
      "90430/90430 [==============================] - 407s 5ms/step - loss: 0.7046 - acc: 0.7989 - val_loss: 0.6299 - val_acc: 0.8215\n",
      "\n",
      "Epoch 00019: val_acc did not improve from 0.83169\n",
      "Epoch 20/200\n",
      "90430/90430 [==============================] - 409s 5ms/step - loss: 0.6898 - acc: 0.8072 - val_loss: 0.5916 - val_acc: 0.8356\n",
      "\n",
      "Epoch 00020: val_acc improved from 0.83169 to 0.83556, saving model to /media/tintin/3bde46c1-cca7-4db6-b2ca-e71397572866/tintin/speech-urban-data/combined/40_2blocks_updateLr_batchNorm/all_data-20-0.84.hdf5\n",
      "Epoch 21/200\n",
      "90430/90430 [==============================] - 412s 5ms/step - loss: 0.6774 - acc: 0.8090 - val_loss: 0.5760 - val_acc: 0.8368\n",
      "\n",
      "Epoch 00021: val_acc improved from 0.83556 to 0.83679, saving model to /media/tintin/3bde46c1-cca7-4db6-b2ca-e71397572866/tintin/speech-urban-data/combined/40_2blocks_updateLr_batchNorm/all_data-21-0.84.hdf5\n",
      "Epoch 22/200\n",
      "90430/90430 [==============================] - 411s 5ms/step - loss: 0.6650 - acc: 0.8125 - val_loss: 0.5786 - val_acc: 0.8350\n",
      "\n",
      "Epoch 00022: val_acc did not improve from 0.83679\n",
      "Epoch 23/200\n",
      "90430/90430 [==============================] - 411s 5ms/step - loss: 0.6615 - acc: 0.8133 - val_loss: 0.6540 - val_acc: 0.8182\n",
      "\n",
      "Epoch 00023: val_acc did not improve from 0.83679\n",
      "Epoch 24/200\n",
      "90430/90430 [==============================] - 411s 5ms/step - loss: 0.6491 - acc: 0.8178 - val_loss: 0.5776 - val_acc: 0.8382\n",
      "\n",
      "Epoch 00024: val_acc improved from 0.83679 to 0.83820, saving model to /media/tintin/3bde46c1-cca7-4db6-b2ca-e71397572866/tintin/speech-urban-data/combined/40_2blocks_updateLr_batchNorm/all_data-24-0.84.hdf5\n",
      "Epoch 25/200\n",
      "90430/90430 [==============================] - 412s 5ms/step - loss: 0.6420 - acc: 0.8200 - val_loss: 0.5692 - val_acc: 0.8413\n",
      "\n",
      "Epoch 00025: val_acc improved from 0.83820 to 0.84127, saving model to /media/tintin/3bde46c1-cca7-4db6-b2ca-e71397572866/tintin/speech-urban-data/combined/40_2blocks_updateLr_batchNorm/all_data-25-0.84.hdf5\n",
      "Epoch 26/200\n",
      "90430/90430 [==============================] - 411s 5ms/step - loss: 0.6333 - acc: 0.8228 - val_loss: 0.6000 - val_acc: 0.8371\n",
      "\n",
      "Epoch 00026: val_acc did not improve from 0.84127\n",
      "Epoch 27/200\n",
      "90430/90430 [==============================] - 407s 5ms/step - loss: 0.6270 - acc: 0.8253 - val_loss: 0.5504 - val_acc: 0.8449\n",
      "\n",
      "Epoch 00027: val_acc improved from 0.84127 to 0.84488, saving model to /media/tintin/3bde46c1-cca7-4db6-b2ca-e71397572866/tintin/speech-urban-data/combined/40_2blocks_updateLr_batchNorm/all_data-27-0.84.hdf5\n",
      "Epoch 28/200\n",
      "90430/90430 [==============================] - 409s 5ms/step - loss: 0.6227 - acc: 0.8256 - val_loss: 0.6103 - val_acc: 0.8313\n",
      "\n",
      "Epoch 00028: val_acc did not improve from 0.84488\n",
      "Epoch 29/200\n",
      "90430/90430 [==============================] - 411s 5ms/step - loss: 0.6139 - acc: 0.8270 - val_loss: 0.5685 - val_acc: 0.8457\n",
      "\n",
      "Epoch 00029: val_acc improved from 0.84488 to 0.84567, saving model to /media/tintin/3bde46c1-cca7-4db6-b2ca-e71397572866/tintin/speech-urban-data/combined/40_2blocks_updateLr_batchNorm/all_data-29-0.85.hdf5\n",
      "Epoch 30/200\n",
      "90430/90430 [==============================] - 410s 5ms/step - loss: 0.6049 - acc: 0.8292 - val_loss: 0.5667 - val_acc: 0.8440\n",
      "\n",
      "Epoch 00030: val_acc did not improve from 0.84567\n",
      "Epoch 31/200\n",
      "90430/90430 [==============================] - 408s 5ms/step - loss: 0.6023 - acc: 0.8313 - val_loss: 0.5675 - val_acc: 0.8433\n",
      "\n",
      "Epoch 00031: val_acc did not improve from 0.84567\n",
      "Epoch 32/200\n",
      "90430/90430 [==============================] - 411s 5ms/step - loss: 0.5956 - acc: 0.8325 - val_loss: 0.5645 - val_acc: 0.8422\n",
      "\n",
      "Epoch 00032: ReduceLROnPlateau reducing learning rate to 0.1.\n",
      "\n",
      "Epoch 00032: val_acc did not improve from 0.84567\n",
      "Epoch 33/200\n",
      "90430/90430 [==============================] - 411s 5ms/step - loss: 0.5373 - acc: 0.8471 - val_loss: 0.5336 - val_acc: 0.8553\n",
      "\n",
      "Epoch 00033: val_acc improved from 0.84567 to 0.85533, saving model to /media/tintin/3bde46c1-cca7-4db6-b2ca-e71397572866/tintin/speech-urban-data/combined/40_2blocks_updateLr_batchNorm/all_data-33-0.86.hdf5\n",
      "Epoch 34/200\n",
      "90430/90430 [==============================] - 410s 5ms/step - loss: 0.5121 - acc: 0.8551 - val_loss: 0.5340 - val_acc: 0.8544\n",
      "\n",
      "Epoch 00034: val_acc did not improve from 0.85533\n",
      "Epoch 35/200\n",
      "90430/90430 [==============================] - 409s 5ms/step - loss: 0.5053 - acc: 0.8572 - val_loss: 0.5328 - val_acc: 0.8568\n",
      "\n",
      "Epoch 00035: val_acc improved from 0.85533 to 0.85683, saving model to /media/tintin/3bde46c1-cca7-4db6-b2ca-e71397572866/tintin/speech-urban-data/combined/40_2blocks_updateLr_batchNorm/all_data-35-0.86.hdf5\n",
      "Epoch 36/200\n",
      "90430/90430 [==============================] - 404s 4ms/step - loss: 0.5030 - acc: 0.8577 - val_loss: 0.5357 - val_acc: 0.8578\n",
      "\n",
      "Epoch 00036: val_acc improved from 0.85683 to 0.85780, saving model to /media/tintin/3bde46c1-cca7-4db6-b2ca-e71397572866/tintin/speech-urban-data/combined/40_2blocks_updateLr_batchNorm/all_data-36-0.86.hdf5\n",
      "Epoch 37/200\n",
      "90430/90430 [==============================] - 409s 5ms/step - loss: 0.5043 - acc: 0.8573 - val_loss: 0.5379 - val_acc: 0.8571\n",
      "\n",
      "Epoch 00037: val_acc did not improve from 0.85780\n",
      "Epoch 38/200\n",
      "90430/90430 [==============================] - 411s 5ms/step - loss: 0.4972 - acc: 0.8589 - val_loss: 0.5348 - val_acc: 0.8575\n",
      "\n",
      "Epoch 00038: ReduceLROnPlateau reducing learning rate to 0.010000000149011612.\n",
      "\n",
      "Epoch 00038: val_acc did not improve from 0.85780\n",
      "Epoch 39/200\n",
      "90430/90430 [==============================] - 409s 5ms/step - loss: 0.4897 - acc: 0.8615 - val_loss: 0.5355 - val_acc: 0.8585\n",
      "\n",
      "Epoch 00039: val_acc improved from 0.85780 to 0.85850, saving model to /media/tintin/3bde46c1-cca7-4db6-b2ca-e71397572866/tintin/speech-urban-data/combined/40_2blocks_updateLr_batchNorm/all_data-39-0.86.hdf5\n",
      "Epoch 40/200\n",
      "90430/90430 [==============================] - 406s 4ms/step - loss: 0.4829 - acc: 0.8610 - val_loss: 0.5369 - val_acc: 0.8581\n",
      "\n",
      "Epoch 00040: val_acc did not improve from 0.85850\n",
      "Epoch 41/200\n",
      "90430/90430 [==============================] - 406s 4ms/step - loss: 0.4844 - acc: 0.8622 - val_loss: 0.5344 - val_acc: 0.8589\n",
      "\n",
      "Epoch 00041: val_acc improved from 0.85850 to 0.85885, saving model to /media/tintin/3bde46c1-cca7-4db6-b2ca-e71397572866/tintin/speech-urban-data/combined/40_2blocks_updateLr_batchNorm/all_data-41-0.86.hdf5\n",
      "Epoch 42/200\n",
      "90430/90430 [==============================] - 407s 5ms/step - loss: 0.4876 - acc: 0.8620 - val_loss: 0.5362 - val_acc: 0.8581\n",
      "\n",
      "Epoch 00042: val_acc did not improve from 0.85885\n",
      "Epoch 43/200\n",
      "90430/90430 [==============================] - 406s 4ms/step - loss: 0.4877 - acc: 0.8613 - val_loss: 0.5362 - val_acc: 0.8582\n",
      "\n",
      "Epoch 00043: ReduceLROnPlateau reducing learning rate to 0.0009999999776482583.\n",
      "\n",
      "Epoch 00043: val_acc did not improve from 0.85885\n",
      "Epoch 44/200\n",
      "90430/90430 [==============================] - 406s 4ms/step - loss: 0.4872 - acc: 0.8618 - val_loss: 0.5352 - val_acc: 0.8587\n",
      "\n",
      "Epoch 00044: val_acc did not improve from 0.85885\n",
      "Epoch 45/200\n",
      "90430/90430 [==============================] - 406s 4ms/step - loss: 0.4842 - acc: 0.8621 - val_loss: 0.5356 - val_acc: 0.8586\n",
      "\n",
      "Epoch 00045: val_acc did not improve from 0.85885\n",
      "Epoch 00045: early stopping\n"
     ]
    }
   ],
   "source": [
    "\n",
    "\n",
    "model = get_model()\n",
    "model.summary()\n",
    "# checkpoint\n",
    "filepath=  \"./models/model3.hdf5\"\n",
    "checkpoint = ModelCheckpoint(filepath, monitor='val_acc', verbose=1, save_best_only=True, mode='max')\n",
    "earlyStoppping = EarlyStopping(monitor='val_loss',patience=10,verbose=1)\n",
    "reduceLR = ReduceLROnPlateau(monitor='val_loss', factor=0.1,patience=5,verbose=1,epsilon=0.001,min_lr=1e-5)\n",
    "callbacks_list = [earlyStoppping, reduceLR, checkpoint]\n",
    "\n",
    "history = model.fit(X_train, Y_train_hot, batch_size=batch_size, epochs=epochs, verbose=verbose, \n",
    "                    validation_data=(X_val, Y_val_hot), callbacks=callbacks_list, )"
   ]
  },
  {
   "cell_type": "code",
   "execution_count": 29,
   "metadata": {},
   "outputs": [
    {
     "name": "stdout",
     "output_type": "stream",
     "text": [
      "WARNING:tensorflow:From /home/tintin/miniconda3/envs/tf36/lib/python3.7/site-packages/tensorflow/python/framework/op_def_library.py:263: colocate_with (from tensorflow.python.framework.ops) is deprecated and will be removed in a future version.\n",
      "Instructions for updating:\n",
      "Colocations handled automatically by placer.\n",
      "WARNING:tensorflow:From /home/tintin/miniconda3/envs/tf36/lib/python3.7/site-packages/keras/backend/tensorflow_backend.py:3445: calling dropout (from tensorflow.python.ops.nn_ops) with keep_prob is deprecated and will be removed in a future version.\n",
      "Instructions for updating:\n",
      "Please use `rate` instead of `keep_prob`. Rate should be set to `rate = 1 - keep_prob`.\n",
      "_________________________________________________________________\n",
      "Layer (type)                 Output Shape              Param #   \n",
      "=================================================================\n",
      "conv2d_1 (Conv2D)            (None, 19, 39, 32)        160       \n",
      "_________________________________________________________________\n",
      "batch_normalization_1 (Batch (None, 19, 39, 32)        128       \n",
      "_________________________________________________________________\n",
      "activation_1 (Activation)    (None, 19, 39, 32)        0         \n",
      "_________________________________________________________________\n",
      "conv2d_2 (Conv2D)            (None, 18, 38, 48)        6192      \n",
      "_________________________________________________________________\n",
      "batch_normalization_2 (Batch (None, 18, 38, 48)        192       \n",
      "_________________________________________________________________\n",
      "activation_2 (Activation)    (None, 18, 38, 48)        0         \n",
      "_________________________________________________________________\n",
      "conv2d_3 (Conv2D)            (None, 17, 37, 120)       23160     \n",
      "_________________________________________________________________\n",
      "batch_normalization_3 (Batch (None, 17, 37, 120)       480       \n",
      "_________________________________________________________________\n",
      "activation_3 (Activation)    (None, 17, 37, 120)       0         \n",
      "_________________________________________________________________\n",
      "max_pooling2d_1 (MaxPooling2 (None, 8, 18, 120)        0         \n",
      "_________________________________________________________________\n",
      "dropout_1 (Dropout)          (None, 8, 18, 120)        0         \n",
      "_________________________________________________________________\n",
      "conv2d_4 (Conv2D)            (None, 7, 17, 120)        57720     \n",
      "_________________________________________________________________\n",
      "batch_normalization_4 (Batch (None, 7, 17, 120)        480       \n",
      "_________________________________________________________________\n",
      "activation_4 (Activation)    (None, 7, 17, 120)        0         \n",
      "_________________________________________________________________\n",
      "conv2d_5 (Conv2D)            (None, 6, 16, 120)        57720     \n",
      "_________________________________________________________________\n",
      "batch_normalization_5 (Batch (None, 6, 16, 120)        480       \n",
      "_________________________________________________________________\n",
      "activation_5 (Activation)    (None, 6, 16, 120)        0         \n",
      "_________________________________________________________________\n",
      "max_pooling2d_2 (MaxPooling2 (None, 3, 8, 120)         0         \n",
      "_________________________________________________________________\n",
      "dropout_2 (Dropout)          (None, 3, 8, 120)         0         \n",
      "_________________________________________________________________\n",
      "flatten_1 (Flatten)          (None, 2880)              0         \n",
      "_________________________________________________________________\n",
      "dense_1 (Dense)              (None, 128)               368768    \n",
      "_________________________________________________________________\n",
      "dropout_3 (Dropout)          (None, 128)               0         \n",
      "_________________________________________________________________\n",
      "dense_2 (Dense)              (None, 64)                8256      \n",
      "_________________________________________________________________\n",
      "dropout_4 (Dropout)          (None, 64)                0         \n",
      "_________________________________________________________________\n",
      "dense_3 (Dense)              (None, 45)                2925      \n",
      "=================================================================\n",
      "Total params: 526,661\n",
      "Trainable params: 525,781\n",
      "Non-trainable params: 880\n",
      "_________________________________________________________________\n"
     ]
    }
   ],
   "source": [
    "# loading the model with the best val accuracy\n",
    "model = get_model()\n",
    "weights_path = \"./models/model3.hdf5\"\n",
    "model.load_weights(weights_path)\n",
    "model.summary()"
   ]
  },
  {
   "cell_type": "code",
   "execution_count": 31,
   "metadata": {},
   "outputs": [
    {
     "name": "stdout",
     "output_type": "stream",
     "text": [
      "dict_keys(['val_loss', 'val_acc', 'loss', 'acc', 'lr'])\n"
     ]
    },
    {
     "data": {
      "image/png": "[encoded data removed]",
      "text/plain": [
       "<Figure size 432x288 with 1 Axes>"
      ]
     },
     "metadata": {
      "needs_background": "light"
     },
     "output_type": "display_data"
    },
    {
     "data": {
      "image/png": "[encoded data removed]",
      "text/plain": [
       "<Figure size 432x288 with 1 Axes>"
      ]
     },
     "metadata": {
      "needs_background": "light"
     },
     "output_type": "display_data"
    }
   ],
   "source": [
    "# list all data in history\n",
    "print(history.history.keys())\n",
    "# summarize history for accuracy\n",
    "plt.plot(history.history['acc'])\n",
    "plt.plot(history.history['val_acc'])\n",
    "plt.title('model accuracy')\n",
    "plt.ylabel('accuracy')\n",
    "plt.xlabel('epoch')\n",
    "plt.legend(['train', 'val'], loc='upper left')\n",
    "plt.savefig(COMBINED_MODEL_SAVE_PATH + 'model_accuracy.png')\n",
    "plt.show()\n",
    "\n",
    "\n",
    "# summarize history for loss\n",
    "plt.plot(history.history['loss'])\n",
    "plt.plot(history.history['val_loss'])\n",
    "plt.title('model loss')\n",
    "plt.ylabel('loss')\n",
    "plt.xlabel('epoch')\n",
    "plt.legend(['train', 'val'], loc='upper left')\n",
    "plt.savefig(COMBINED_MODEL_SAVE_PATH + 'model_loss.png')\n",
    "plt.show()\n"
   ]
  },
  {
   "cell_type": "code",
   "execution_count": 32,
   "metadata": {},
   "outputs": [
    {
     "name": "stdout",
     "output_type": "stream",
     "text": [
      "90430/90430 [==============================] - 114s 1ms/step\n",
      "11378/11378 [==============================] - 12s 1ms/step\n",
      "12751/12751 [==============================] - 14s 1ms/step\n",
      "[0.23867406456338977, 0.9291496184802116]\n",
      "[0.5344296225000714, 0.8588504130883468]\n",
      "[0.6031765448477734, 0.8386008940568747]\n"
     ]
    }
   ],
   "source": [
    "#train and test loss and scores respectively\n",
    "train_loss_score=model.evaluate(X_train,Y_train_hot)\n",
    "val_loss_score=model.evaluate(X_val,Y_val_hot)\n",
    "test_loss_score=model.evaluate(X_test,Y_test_hot)\n",
    "print(train_loss_score)\n",
    "print(val_loss_score)\n",
    "print(test_loss_score)"
   ]
  },
  {
   "cell_type": "code",
   "execution_count": null,
   "metadata": {},
   "outputs": [],
   "source": [
    "# Predicts one sample\n",
    "labels = ['down', 'learn', 'right', 'nine', 'eight', 'dog', 'bird', 'house',\n",
    " 'marvin', 'zero', 'sheila', 'bed', 'follow', 'off', 'happy', 'backward', 'on',\n",
    "  'cat', 'left', 'five', 'visual', 'one', 'no', 'two', 'yes', 'forward', 'tree',\n",
    "   'three', 'go', 'seven', 'six', 'wow', 'stop', 'four', 'up','air_conditioner',\n",
    "   'dog_bark', 'street_music', 'car_horn', 'drilling', 'children_playing',\n",
    "    'siren', 'engine_idling', 'jackhammer', 'gun_shot']\n",
    "\n",
    "def predict(filepath, model,labels):\n",
    "    mfcc = wav2mfcc(testFile, max_len=40)\n",
    "    mfcc_reshaped = mfcc.reshape(1,feature_dim_1,feature_dim_2,channel)\n",
    "    odds= model.predict(mfcc_reshaped)\n",
    "    odds_max = np.argmax(odds)\n",
    "    label = labels[odds_max]\n",
    "    return label"
   ]
  },
  {
   "cell_type": "code",
   "execution_count": null,
   "metadata": {},
   "outputs": [],
   "source": [
    "testFile = SPEECH_DATA_PATH + 'happy/27c30960_nohash_0.wav'\n",
    "print(predict(testFile,model,labels))"
   ]
  },
  {
   "cell_type": "code",
   "execution_count": 30,
   "metadata": {},
   "outputs": [],
   "source": [
    "from keras.utils import plot_model\n",
    "feature_dim_2 = 15      #max_len\n",
    "feature_dim_1 = 20\n",
    "channel=1\n",
    "num_classes=45\n",
    "#max_len\n",
    "model = get_model()\n",
    "plot_model(model, show_shapes = True, show_layer_names = True,to_file='model.png')"
   ]
  },
  {
   "cell_type": "code",
   "execution_count": null,
   "metadata": {},
   "outputs": [],
   "source": []
  }
 ],
 "metadata": {
  "kernelspec": {
   "display_name": "Python 3",
   "language": "python",
   "name": "python3"
  },
  "language_info": {
   "codemirror_mode": {
    "name": "ipython",
    "version": 3
   },
   "file_extension": ".py",
   "mimetype": "text/x-python",
   "name": "python",
   "nbconvert_exporter": "python",
   "pygments_lexer": "ipython3",
   "version": "3.7.3"
  }
 },
 "nbformat": 4,
 "nbformat_minor": 2
}
